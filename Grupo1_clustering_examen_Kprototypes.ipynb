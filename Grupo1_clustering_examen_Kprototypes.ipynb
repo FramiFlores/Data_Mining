{
  "nbformat": 4,
  "nbformat_minor": 0,
  "metadata": {
    "colab": {
      "name": "Clase2_clustering_cat_notebook.ipynb",
      "provenance": [],
      "collapsed_sections": []
    },
    "kernelspec": {
      "name": "python3",
      "display_name": "Python 3"
    }
  },
  "cells": [
    {
      "cell_type": "code",
      "metadata": {
        "id": "fRT4FgHCGEOC",
        "colab": {
          "base_uri": "https://localhost:8080/"
        },
        "outputId": "e0121d0c-e77a-4dff-ec6a-393841b0dd49"
      },
      "source": [
        "#LIBRERIAS BASICAS\r\n",
        "!pip install kmodes\r\n",
        "from google.colab import files\r\n",
        "import pandas as pd\r\n",
        "from sklearn.cluster import KMeans\r\n",
        "import matplotlib.pyplot as plt\r\n",
        "from sklearn.metrics import silhouette_score\r\n",
        "from kmodes.kprototypes import KPrototypes\r\n",
        "%matplotlib inline"
      ],
      "execution_count": 1,
      "outputs": [
        {
          "output_type": "stream",
          "text": [
            "Collecting kmodes\n",
            "  Downloading https://files.pythonhosted.org/packages/9b/34/fffc601aa4d44b94e945a7cc72f477e09dffa7dce888898f2ffd9f4e343e/kmodes-0.11.0-py2.py3-none-any.whl\n",
            "Requirement already satisfied: numpy>=1.10.4 in /usr/local/lib/python3.6/dist-packages (from kmodes) (1.19.5)\n",
            "Requirement already satisfied: joblib>=0.11 in /usr/local/lib/python3.6/dist-packages (from kmodes) (1.0.0)\n",
            "Requirement already satisfied: scikit-learn>=0.22.0 in /usr/local/lib/python3.6/dist-packages (from kmodes) (0.22.2.post1)\n",
            "Requirement already satisfied: scipy>=0.13.3 in /usr/local/lib/python3.6/dist-packages (from kmodes) (1.4.1)\n",
            "Installing collected packages: kmodes\n",
            "Successfully installed kmodes-0.11.0\n"
          ],
          "name": "stdout"
        }
      ]
    },
    {
      "cell_type": "code",
      "metadata": {
        "id": "jpe6m9g9P7Za"
      },
      "source": [
        "# FUNCIONES PARA CLUSTERING\r\n",
        "\r\n",
        "def normalize(df):\r\n",
        "    dfb = df.copy()\r\n",
        "    for x in df.columns:\r\n",
        "        dfb[x] = (df[x]-df[x].min())/(df[x].max()-df[x].min())\r\n",
        "    return dfb   \r\n",
        "\r\n",
        "def centroides(a,b):\r\n",
        "    g = {}\r\n",
        "    for i in range(0,b.labels_.max()+1):\r\n",
        "        g1 = pd.DataFrame(data=b.cluster_centroids_[0][i])\r\n",
        "        g2 = pd.DataFrame(data=b.cluster_centroids_[1][i])                 \r\n",
        "        g1 = g1.append(g2)\r\n",
        "        g[i] = g1.copy()\r\n",
        "        g[i].rename(columns={0:i},inplace=True)\r\n",
        "        g[i] = g[i].reset_index()\r\n",
        "        g[i].drop(columns='index',inplace=True)\r\n",
        "\r\n",
        "    gx = g[0]\r\n",
        "    for i in range(1,b.labels_.max()+1):\r\n",
        "        gx = gx.join(g[i])\r\n",
        "\r\n",
        "    centroids = pd.DataFrame(data=gx.T)\r\n",
        "    centroids = centroids.reset_index()\r\n",
        "    centroids.rename(columns={'index':'cluster'},inplace=True)\r\n",
        "\r\n",
        "    cols = a.columns\r\n",
        "    num_cols = list(set(a._get_numeric_data().columns))\r\n",
        "    cat_cols = list(set(cols) - set(num_cols))\r\n",
        "\r\n",
        "    for i in range(0,len(num_cols)):\r\n",
        "        centroids.rename(columns={i:num_cols[i]},inplace=True)\r\n",
        "    j = 0\r\n",
        "    for i in range(len(num_cols),len(cols)):\r\n",
        "        centroids.rename(columns={i:cat_cols[j]},inplace=True)\r\n",
        "        j = j+1\r\n",
        "    return centroids\r\n",
        "    \r\n",
        "def clusteres(a,b): \r\n",
        "    lab = pd.DataFrame(data=b)\r\n",
        "    ax = a.join(lab)\r\n",
        "    ax.rename(columns={0:'cluster'},inplace=True)  \r\n",
        "    return ax\r\n",
        "\r\n",
        "def elbow(X,catx):\r\n",
        "    cost = []\r\n",
        "    K = range(1,7)\r\n",
        "    for k in K:\r\n",
        "        kproto = KPrototypes(n_clusters=k, init='Cao')\r\n",
        "        kproto.fit_predict(X, categorical=catx)\r\n",
        "        cost.append(kproto.cost_)\r\n",
        "\r\n",
        "    plt.plot(K,cost, 'bx-')\r\n",
        "    plt.xlabel('k')\r\n",
        "    plt.ylabel('sum_of_squared_distances')\r\n",
        "    plt.title('elbow method for optimal k')\r\n",
        "    return cost"
      ],
      "execution_count": 2,
      "outputs": []
    },
    {
      "cell_type": "code",
      "metadata": {
        "colab": {
          "base_uri": "https://localhost:8080/",
          "height": 204
        },
        "id": "zejVMMU2ajIu",
        "outputId": "dac2aec5-9676-4ad6-ceda-d33671fa588b"
      },
      "source": [
        "#DATA LOADING & PREVIEW\r\n",
        "\r\n",
        "url = 'https://raw.githubusercontent.com/FiorellaChihuala/Data_Mining/main/examen_clustering_Clean2.csv'\r\n",
        "#df = pd.read_csv(url,sep=';')\r\n",
        "df = pd.read_csv(url,sep=',', encoding='latin-1')\r\n",
        "df.head()"
      ],
      "execution_count": 3,
      "outputs": [
        {
          "output_type": "execute_result",
          "data": {
            "text/html": [
              "<div>\n",
              "<style scoped>\n",
              "    .dataframe tbody tr th:only-of-type {\n",
              "        vertical-align: middle;\n",
              "    }\n",
              "\n",
              "    .dataframe tbody tr th {\n",
              "        vertical-align: top;\n",
              "    }\n",
              "\n",
              "    .dataframe thead th {\n",
              "        text-align: right;\n",
              "    }\n",
              "</style>\n",
              "<table border=\"1\" class=\"dataframe\">\n",
              "  <thead>\n",
              "    <tr style=\"text-align: right;\">\n",
              "      <th></th>\n",
              "      <th>CustomerID</th>\n",
              "      <th>Frequency</th>\n",
              "      <th>Monetary_value</th>\n",
              "      <th>Average_price</th>\n",
              "      <th>Recency</th>\n",
              "      <th>Country</th>\n",
              "    </tr>\n",
              "  </thead>\n",
              "  <tbody>\n",
              "    <tr>\n",
              "      <th>0</th>\n",
              "      <td>12347</td>\n",
              "      <td>7</td>\n",
              "      <td>44.048571</td>\n",
              "      <td>1.741523</td>\n",
              "      <td>2</td>\n",
              "      <td>Other</td>\n",
              "    </tr>\n",
              "    <tr>\n",
              "      <th>1</th>\n",
              "      <td>12348</td>\n",
              "      <td>1</td>\n",
              "      <td>201.360000</td>\n",
              "      <td>0.524375</td>\n",
              "      <td>358</td>\n",
              "      <td>Other</td>\n",
              "    </tr>\n",
              "    <tr>\n",
              "      <th>2</th>\n",
              "      <td>12349</td>\n",
              "      <td>1</td>\n",
              "      <td>178.570000</td>\n",
              "      <td>3.799362</td>\n",
              "      <td>18</td>\n",
              "      <td>Other</td>\n",
              "    </tr>\n",
              "    <tr>\n",
              "      <th>3</th>\n",
              "      <td>12350</td>\n",
              "      <td>1</td>\n",
              "      <td>25.200000</td>\n",
              "      <td>2.100000</td>\n",
              "      <td>310</td>\n",
              "      <td>Other</td>\n",
              "    </tr>\n",
              "    <tr>\n",
              "      <th>4</th>\n",
              "      <td>12352</td>\n",
              "      <td>5</td>\n",
              "      <td>37.130000</td>\n",
              "      <td>4.722286</td>\n",
              "      <td>80</td>\n",
              "      <td>Other</td>\n",
              "    </tr>\n",
              "  </tbody>\n",
              "</table>\n",
              "</div>"
            ],
            "text/plain": [
              "   CustomerID  Frequency  Monetary_value  Average_price  Recency Country\n",
              "0       12347          7       44.048571       1.741523        2   Other\n",
              "1       12348          1      201.360000       0.524375      358   Other\n",
              "2       12349          1      178.570000       3.799362       18   Other\n",
              "3       12350          1       25.200000       2.100000      310   Other\n",
              "4       12352          5       37.130000       4.722286       80   Other"
            ]
          },
          "metadata": {
            "tags": []
          },
          "execution_count": 3
        }
      ]
    },
    {
      "cell_type": "code",
      "metadata": {
        "id": "CcLP5PdYBXep",
        "colab": {
          "base_uri": "https://localhost:8080/",
          "height": 204
        },
        "outputId": "c55eac8d-3f17-4237-de46-6f05aceb200a"
      },
      "source": [
        "#DATA PREPARATION (VERY IMPORTANT TO DIFFERENTIATE \"X\" AND \"DF\")\r\n",
        "\r\n",
        "X = df.drop(columns=['CustomerID'])\r\n",
        "X.head()"
      ],
      "execution_count": 4,
      "outputs": [
        {
          "output_type": "execute_result",
          "data": {
            "text/html": [
              "<div>\n",
              "<style scoped>\n",
              "    .dataframe tbody tr th:only-of-type {\n",
              "        vertical-align: middle;\n",
              "    }\n",
              "\n",
              "    .dataframe tbody tr th {\n",
              "        vertical-align: top;\n",
              "    }\n",
              "\n",
              "    .dataframe thead th {\n",
              "        text-align: right;\n",
              "    }\n",
              "</style>\n",
              "<table border=\"1\" class=\"dataframe\">\n",
              "  <thead>\n",
              "    <tr style=\"text-align: right;\">\n",
              "      <th></th>\n",
              "      <th>Frequency</th>\n",
              "      <th>Monetary_value</th>\n",
              "      <th>Average_price</th>\n",
              "      <th>Recency</th>\n",
              "      <th>Country</th>\n",
              "    </tr>\n",
              "  </thead>\n",
              "  <tbody>\n",
              "    <tr>\n",
              "      <th>0</th>\n",
              "      <td>7</td>\n",
              "      <td>44.048571</td>\n",
              "      <td>1.741523</td>\n",
              "      <td>2</td>\n",
              "      <td>Other</td>\n",
              "    </tr>\n",
              "    <tr>\n",
              "      <th>1</th>\n",
              "      <td>1</td>\n",
              "      <td>201.360000</td>\n",
              "      <td>0.524375</td>\n",
              "      <td>358</td>\n",
              "      <td>Other</td>\n",
              "    </tr>\n",
              "    <tr>\n",
              "      <th>2</th>\n",
              "      <td>1</td>\n",
              "      <td>178.570000</td>\n",
              "      <td>3.799362</td>\n",
              "      <td>18</td>\n",
              "      <td>Other</td>\n",
              "    </tr>\n",
              "    <tr>\n",
              "      <th>3</th>\n",
              "      <td>1</td>\n",
              "      <td>25.200000</td>\n",
              "      <td>2.100000</td>\n",
              "      <td>310</td>\n",
              "      <td>Other</td>\n",
              "    </tr>\n",
              "    <tr>\n",
              "      <th>4</th>\n",
              "      <td>5</td>\n",
              "      <td>37.130000</td>\n",
              "      <td>4.722286</td>\n",
              "      <td>80</td>\n",
              "      <td>Other</td>\n",
              "    </tr>\n",
              "  </tbody>\n",
              "</table>\n",
              "</div>"
            ],
            "text/plain": [
              "   Frequency  Monetary_value  Average_price  Recency Country\n",
              "0          7       44.048571       1.741523        2   Other\n",
              "1          1      201.360000       0.524375      358   Other\n",
              "2          1      178.570000       3.799362       18   Other\n",
              "3          1       25.200000       2.100000      310   Other\n",
              "4          5       37.130000       4.722286       80   Other"
            ]
          },
          "metadata": {
            "tags": []
          },
          "execution_count": 4
        }
      ]
    },
    {
      "cell_type": "code",
      "metadata": {
        "id": "k2XL6NSZ1CzD"
      },
      "source": [
        "# SEÑALAR COLUMNAS CATEGORICAS (INDICE EMPIEZA EN CERO)\r\n",
        "\r\n",
        "x_cat=[4]"
      ],
      "execution_count": 5,
      "outputs": []
    },
    {
      "cell_type": "code",
      "metadata": {
        "colab": {
          "base_uri": "https://localhost:8080/",
          "height": 312
        },
        "id": "7imvLc4ZZVJJ",
        "outputId": "5dd64d79-d3df-403b-bb4f-25472baf05b6"
      },
      "source": [
        "# OPTIMAL NUMBER \"K\" OF CLUSTERS\r\n",
        "\r\n",
        "print(elbow(X,x_cat))"
      ],
      "execution_count": 6,
      "outputs": [
        {
          "output_type": "stream",
          "text": [
            "[1585335415.3231475, 70799428.27464013, 39691072.97303909, 27167389.772218492, 21721172.13752188, 18154221.117321663]\n"
          ],
          "name": "stdout"
        },
        {
          "output_type": "display_data",
          "data": {
            "image/png": "[encoded data removed]",
            "text/plain": [
              "<Figure size 432x288 with 1 Axes>"
            ]
          },
          "metadata": {
            "tags": [],
            "needs_background": "light"
          }
        }
      ]
    },
    {
      "cell_type": "code",
      "metadata": {
        "id": "oxsYkM95GJQP"
      },
      "source": [
        "# ALGORITHM FIT\r\n",
        "\r\n",
        "kproto = KPrototypes(n_clusters=2, init='Cao').fit(X, categorical=x_cat)    # PRECISAR el N° clusters con \"n_clusters\", init no se cambia  ### Metodos de inicializacion: \"Cao\",\"Huang\""
      ],
      "execution_count": 7,
      "outputs": []
    },
    {
      "cell_type": "code",
      "metadata": {
        "id": "48VQswWWBeVB"
      },
      "source": [
        "# CLUSTER CENTROIDS\r\n",
        "\r\n",
        "# print('Centroides optimos de clusteres')\r\n",
        "# print(centroides(X,kproto))"
      ],
      "execution_count": null,
      "outputs": []
    },
    {
      "cell_type": "code",
      "metadata": {
        "colab": {
          "base_uri": "https://localhost:8080/"
        },
        "id": "mrylgtFsN0NT",
        "outputId": "c64d12ab-d468-4570-d6f5-6bfcd00f1584"
      },
      "source": [
        "# CLUSTER RESULTS\r\n",
        "\r\n",
        "print('Asignacion de clusteres segun cada observacion')\r\n",
        "print(clusteres(df,kproto.labels_).head())"
      ],
      "execution_count": 8,
      "outputs": [
        {
          "output_type": "stream",
          "text": [
            "Asignacion de clusteres segun cada observacion\n",
            "   CustomerID  Frequency  Monetary_value  ...  Recency  Country cluster\n",
            "0       12347          7       44.048571  ...        2    Other       0\n",
            "1       12348          1      201.360000  ...      358    Other       0\n",
            "2       12349          1      178.570000  ...       18    Other       0\n",
            "3       12350          1       25.200000  ...      310    Other       0\n",
            "4       12352          5       37.130000  ...       80    Other       0\n",
            "\n",
            "[5 rows x 7 columns]\n"
          ],
          "name": "stdout"
        }
      ]
    },
    {
      "cell_type": "code",
      "metadata": {
        "colab": {
          "base_uri": "https://localhost:8080/",
          "height": 17
        },
        "id": "Vh5cXlPfbOLa",
        "outputId": "7e1ae34e-bdaa-4354-a964-f37d6be86eda"
      },
      "source": [
        "# EXPORT RESULTS\r\n",
        "#centroides(X,kproto).to_csv('centroides.csv') \r\n",
        "#files.download('centroides.csv')\r\n",
        "\r\n",
        "clusteres(df,kproto.labels_).to_csv('resultadosKPrototypes.csv') \r\n",
        "files.download('resultadosKPrototypes.csv')"
      ],
      "execution_count": 9,
      "outputs": [
        {
          "output_type": "display_data",
          "data": {
            "application/javascript": [
              "\n",
              "    async function download(id, filename, size) {\n",
              "      if (!google.colab.kernel.accessAllowed) {\n",
              "        return;\n",
              "      }\n",
              "      const div = document.createElement('div');\n",
              "      const label = document.createElement('label');\n",
              "      label.textContent = `Downloading \"${filename}\": `;\n",
              "      div.appendChild(label);\n",
              "      const progress = document.createElement('progress');\n",
              "      progress.max = size;\n",
              "      div.appendChild(progress);\n",
              "      document.body.appendChild(div);\n",
              "\n",
              "      const buffers = [];\n",
              "      let downloaded = 0;\n",
              "\n",
              "      const channel = await google.colab.kernel.comms.open(id);\n",
              "      // Send a message to notify the kernel that we're ready.\n",
              "      channel.send({})\n",
              "\n",
              "      for await (const message of channel.messages) {\n",
              "        // Send a message to notify the kernel that we're ready.\n",
              "        channel.send({})\n",
              "        if (message.buffers) {\n",
              "          for (const buffer of message.buffers) {\n",
              "            buffers.push(buffer);\n",
              "            downloaded += buffer.byteLength;\n",
              "            progress.value = downloaded;\n",
              "          }\n",
              "        }\n",
              "      }\n",
              "      const blob = new Blob(buffers, {type: 'application/binary'});\n",
              "      const a = document.createElement('a');\n",
              "      a.href = window.URL.createObjectURL(blob);\n",
              "      a.download = filename;\n",
              "      div.appendChild(a);\n",
              "      a.click();\n",
              "      div.remove();\n",
              "    }\n",
              "  "
            ],
            "text/plain": [
              "<IPython.core.display.Javascript object>"
            ]
          },
          "metadata": {
            "tags": []
          }
        },
        {
          "output_type": "display_data",
          "data": {
            "application/javascript": [
              "download(\"download_714a77f5-f9e4-4a4d-826d-0b3fa8c459cd\", \"resultadosKPrototypes.csv\", 193832)"
            ],
            "text/plain": [
              "<IPython.core.display.Javascript object>"
            ]
          },
          "metadata": {
            "tags": []
          }
        }
      ]
    },
    {
      "cell_type": "code",
      "metadata": {
        "id": "TOYgtFPSd3Gf"
      },
      "source": [
        "#from google.colab import drive\r\n",
        "#drive.mount(\"/content/gdrive\")\r\n"
      ],
      "execution_count": null,
      "outputs": []
    }
  ]
}