{
  "nbformat": 4,
  "nbformat_minor": 0,
  "metadata": {
    "colab": {
      "name": "Clase2_clustering_notebook.ipynb",
      "provenance": [],
      "collapsed_sections": []
    },
    "kernelspec": {
      "name": "python3",
      "display_name": "Python 3"
    }
  },
  "cells": [
    {
      "cell_type": "code",
      "metadata": {
        "id": "fRT4FgHCGEOC"
      },
      "source": [
        "#LIBRERIAS BASICAS\r\n",
        "\r\n",
        "from google.colab import files\r\n",
        "import pandas as pd\r\n",
        "from sklearn.cluster import KMeans\r\n",
        "import matplotlib.pyplot as plt\r\n",
        "from sklearn.metrics import silhouette_score\r\n",
        "%matplotlib inline"
      ],
      "execution_count": null,
      "outputs": []
    },
    {
      "cell_type": "code",
      "metadata": {
        "id": "jpe6m9g9P7Za"
      },
      "source": [
        "# FUNCIONES PARA CLUSTERING\r\n",
        "\r\n",
        "def normalize(df):\r\n",
        "    dfb = df.copy()\r\n",
        "    for x in df.columns:\r\n",
        "        dfb[x] = (df[x]-df[x].min())/(df[x].max()-df[x].min())\r\n",
        "    return dfb   \r\n",
        "    \r\n",
        "def centroides(a,b):\r\n",
        "    res = pd.DataFrame(data=b)\r\n",
        "    i=0\r\n",
        "    for x in a.columns:\r\n",
        "        res.rename(columns={i:x},inplace=True)\r\n",
        "        i = i+1\r\n",
        "    res.reset_index(inplace=True)\r\n",
        "    res.rename(columns={'index':'cluster'},inplace=True)\r\n",
        "    return res \r\n",
        "    \r\n",
        "def clusteres(a,b): \r\n",
        "    lab = pd.DataFrame(data=b)\r\n",
        "    ax = a.join(lab)\r\n",
        "    ax.rename(columns={0:'cluster'},inplace=True)  \r\n",
        "    return ax\r\n",
        "\r\n",
        "def elbow(X):\r\n",
        "    sum_of_squared_distances = []\r\n",
        "    K = range(1,15)\r\n",
        "    for k in K:\r\n",
        "        k_means = KMeans(n_clusters=k)\r\n",
        "        model = k_means.fit(X)\r\n",
        "        sum_of_squared_distances.append(k_means.inertia_)\r\n",
        "\r\n",
        "    plt.plot(K, sum_of_squared_distances, 'bx-')\r\n",
        "    plt.xlabel('k')\r\n",
        "    plt.ylabel('sum_of_squared_distances')\r\n",
        "    plt.title('elbow method for optimal k')\r\n",
        "    plt.show()\r\n",
        "    return sum_of_squared_distances\r\n",
        "\r\n",
        "def silhouette(X):\r\n",
        "    sil = []\r\n",
        "    K = range(2, 15)\r\n",
        "    for k in K:\r\n",
        "      kmeans = KMeans(n_clusters = k).fit(X)\r\n",
        "      labels = kmeans.labels_\r\n",
        "      sil.append(silhouette_score(X, labels, metric = 'euclidean'))\r\n",
        "\r\n",
        "    plt.plot(K, sil, 'bx-')\r\n",
        "    plt.xlabel('k')\r\n",
        "    plt.ylabel('silhouette score')\r\n",
        "    plt.title('silhouette method for optimal k')\r\n",
        "    plt.show()\r\n",
        "    return sil"
      ],
      "execution_count": null,
      "outputs": []
    },
    {
      "cell_type": "code",
      "metadata": {
        "colab": {
          "base_uri": "https://localhost:8080/",
          "height": 204
        },
        "id": "zejVMMU2ajIu",
        "outputId": "da27462f-6d64-4d0a-f226-a5a59bca2183"
      },
      "source": [
        "#DATA LOADING & PREVIEW\r\n",
        "\r\n",
        "url = 'https://raw.githubusercontent.com/FiorellaChihuala/Data_Mining/main/examen_clustering_Clean2.csv'\r\n",
        "##df = pd.read_csv(url,sep=';')\r\n",
        "df = pd.read_csv(url,sep=',', encoding='latin-1')\r\n",
        "df.head()\r\n",
        "\r\n"
      ],
      "execution_count": 27,
      "outputs": [
        {
          "output_type": "execute_result",
          "data": {
            "text/html": [
              "<div>\n",
              "<style scoped>\n",
              "    .dataframe tbody tr th:only-of-type {\n",
              "        vertical-align: middle;\n",
              "    }\n",
              "\n",
              "    .dataframe tbody tr th {\n",
              "        vertical-align: top;\n",
              "    }\n",
              "\n",
              "    .dataframe thead th {\n",
              "        text-align: right;\n",
              "    }\n",
              "</style>\n",
              "<table border=\"1\" class=\"dataframe\">\n",
              "  <thead>\n",
              "    <tr style=\"text-align: right;\">\n",
              "      <th></th>\n",
              "      <th>CustomerID</th>\n",
              "      <th>Frequency</th>\n",
              "      <th>Monetary_value</th>\n",
              "      <th>Average_price</th>\n",
              "      <th>Recency</th>\n",
              "      <th>Country</th>\n",
              "    </tr>\n",
              "  </thead>\n",
              "  <tbody>\n",
              "    <tr>\n",
              "      <th>0</th>\n",
              "      <td>12347</td>\n",
              "      <td>7</td>\n",
              "      <td>44.048571</td>\n",
              "      <td>1.741523</td>\n",
              "      <td>2</td>\n",
              "      <td>Other</td>\n",
              "    </tr>\n",
              "    <tr>\n",
              "      <th>1</th>\n",
              "      <td>12348</td>\n",
              "      <td>1</td>\n",
              "      <td>201.360000</td>\n",
              "      <td>0.524375</td>\n",
              "      <td>358</td>\n",
              "      <td>Other</td>\n",
              "    </tr>\n",
              "    <tr>\n",
              "      <th>2</th>\n",
              "      <td>12349</td>\n",
              "      <td>1</td>\n",
              "      <td>178.570000</td>\n",
              "      <td>3.799362</td>\n",
              "      <td>18</td>\n",
              "      <td>Other</td>\n",
              "    </tr>\n",
              "    <tr>\n",
              "      <th>3</th>\n",
              "      <td>12350</td>\n",
              "      <td>1</td>\n",
              "      <td>25.200000</td>\n",
              "      <td>2.100000</td>\n",
              "      <td>310</td>\n",
              "      <td>Other</td>\n",
              "    </tr>\n",
              "    <tr>\n",
              "      <th>4</th>\n",
              "      <td>12352</td>\n",
              "      <td>5</td>\n",
              "      <td>37.130000</td>\n",
              "      <td>4.722286</td>\n",
              "      <td>80</td>\n",
              "      <td>Other</td>\n",
              "    </tr>\n",
              "  </tbody>\n",
              "</table>\n",
              "</div>"
            ],
            "text/plain": [
              "   CustomerID  Frequency  Monetary_value  Average_price  Recency Country\n",
              "0       12347          7       44.048571       1.741523        2   Other\n",
              "1       12348          1      201.360000       0.524375      358   Other\n",
              "2       12349          1      178.570000       3.799362       18   Other\n",
              "3       12350          1       25.200000       2.100000      310   Other\n",
              "4       12352          5       37.130000       4.722286       80   Other"
            ]
          },
          "metadata": {
            "tags": []
          },
          "execution_count": 27
        }
      ]
    },
    {
      "cell_type": "code",
      "metadata": {
        "id": "M4trkomhem8L"
      },
      "source": [
        "#DATA PREPARATION (VERY IMPORTANT TO DIFFERENTIATE \"X\" AND \"DF\")\r\n",
        "\r\n",
        "X = df.drop(columns='CustomerID')\r\n",
        "X = pd.get_dummies(X)               #ONE HOT ENCODING SI HAY CATEGORICAS\r\n",
        "X = normalize(X)"
      ],
      "execution_count": 28,
      "outputs": []
    },
    {
      "cell_type": "code",
      "metadata": {
        "colab": {
          "base_uri": "https://localhost:8080/",
          "height": 627
        },
        "id": "7imvLc4ZZVJJ",
        "outputId": "8893ebf6-2ef7-4c0c-a527-c7393a7a1010"
      },
      "source": [
        "# OPTIMAL NUMBER \"K\" OF CLUSTERS\r\n",
        "\r\n",
        "print(elbow(X))\r\n",
        "print(silhouette(X))"
      ],
      "execution_count": 29,
      "outputs": [
        {
          "output_type": "display_data",
          "data": {
            "image/png": "[encoded data removed]",
            "text/plain": [
              "<Figure size 432x288 with 1 Axes>"
            ]
          },
          "metadata": {
            "tags": [],
            "needs_background": "light"
          }
        },
        {
          "output_type": "stream",
          "text": [
            "[977.1897021688285, 288.74885503803, 88.02637267835684, 60.18173263265723, 37.443966371152044, 26.931809644039703, 21.427373660059107, 18.034604902379968, 15.156654826849998, 13.515550595795268, 12.115147676471894, 11.05586018803091, 9.94648657075138, 9.04491644957443]\n"
          ],
          "name": "stdout"
        },
        {
          "output_type": "display_data",
          "data": {
            "image/png": "[encoded data removed]",
            "text/plain": [
              "<Figure size 432x288 with 1 Axes>"
            ]
          },
          "metadata": {
            "tags": [],
            "needs_background": "light"
          }
        },
        {
          "output_type": "stream",
          "text": [
            "[0.804079776985406, 0.726379631980702, 0.6707065242474576, 0.6638816858511116, 0.5798390327852314, 0.5694923733113461, 0.5641384740170576, 0.5584637772562596, 0.4923258131823636, 0.4972357363256523, 0.4937550901052158, 0.4953866169176972, 0.49628977011512365]\n"
          ],
          "name": "stdout"
        }
      ]
    },
    {
      "cell_type": "code",
      "metadata": {
        "id": "oxsYkM95GJQP"
      },
      "source": [
        "# ALGORITHM FIT\r\n",
        "\r\n",
        "kmeans = KMeans(n_clusters=4, random_state=44).fit(X)"
      ],
      "execution_count": 30,
      "outputs": []
    },
    {
      "cell_type": "code",
      "metadata": {
        "colab": {
          "base_uri": "https://localhost:8080/"
        },
        "id": "48VQswWWBeVB",
        "outputId": "fb3241a7-1e07-4d83-929f-8fca9f4c7c0a"
      },
      "source": [
        "# CLUSTER CENTROIDS   ### SE PUEDE OBVIAR\r\n",
        "\r\n",
        "print('Centroides optimos de clusteres')\r\n",
        "print(centroides(X,kmeans.cluster_centers_))"
      ],
      "execution_count": 31,
      "outputs": [
        {
          "output_type": "stream",
          "text": [
            "Centroides optimos de clusteres\n",
            "   cluster  Frequency  ...  Country_Other  Country_United Kingdom\n",
            "0        0   0.019860  ...   5.037637e-15            1.000000e+00\n",
            "1        1   0.001569  ...  -8.604228e-16            1.000000e+00\n",
            "2        2   0.016676  ...   1.000000e+00           -7.660539e-15\n",
            "3        3   0.005961  ...  -9.575674e-16            1.000000e+00\n",
            "\n",
            "[4 rows x 7 columns]\n"
          ],
          "name": "stdout"
        }
      ]
    },
    {
      "cell_type": "code",
      "metadata": {
        "colab": {
          "base_uri": "https://localhost:8080/"
        },
        "id": "mrylgtFsN0NT",
        "outputId": "7c6f247d-89ec-4aee-e2ea-97c0574df5c3"
      },
      "source": [
        "# CLUSTER RESULTS    ### SE PUEDE OBVIAR\r\n",
        "\r\n",
        "print('Asignacion de clusteres segun cada observacion')\r\n",
        "print(clusteres(df,kmeans.labels_).head())"
      ],
      "execution_count": 32,
      "outputs": [
        {
          "output_type": "stream",
          "text": [
            "Asignacion de clusteres segun cada observacion\n",
            "   CustomerID  Frequency  Monetary_value  ...  Recency  Country cluster\n",
            "0       12347          7       44.048571  ...        2    Other       2\n",
            "1       12348          1      201.360000  ...      358    Other       2\n",
            "2       12349          1      178.570000  ...       18    Other       2\n",
            "3       12350          1       25.200000  ...      310    Other       2\n",
            "4       12352          5       37.130000  ...       80    Other       2\n",
            "\n",
            "[5 rows x 7 columns]\n"
          ],
          "name": "stdout"
        }
      ]
    },
    {
      "cell_type": "code",
      "metadata": {
        "colab": {
          "base_uri": "https://localhost:8080/",
          "height": 17
        },
        "id": "Vh5cXlPfbOLa",
        "outputId": "cc0e72cc-537d-4712-f2e6-58aaa59d36fa"
      },
      "source": [
        "# EXPORT RESULTS\r\n",
        "centroides(X,kmeans.cluster_centers_).to_csv('centroidesKmeans.csv') \r\n",
        "files.download('centroidesKmeans.csv')\r\n",
        "\r\n",
        "clusteres(df,kmeans.labels_).to_csv('resultadosKmeans.csv') \r\n",
        "files.download('resultadosKmeans.csv')"
      ],
      "execution_count": 36,
      "outputs": [
        {
          "output_type": "display_data",
          "data": {
            "application/javascript": [
              "\n",
              "    async function download(id, filename, size) {\n",
              "      if (!google.colab.kernel.accessAllowed) {\n",
              "        return;\n",
              "      }\n",
              "      const div = document.createElement('div');\n",
              "      const label = document.createElement('label');\n",
              "      label.textContent = `Downloading \"${filename}\": `;\n",
              "      div.appendChild(label);\n",
              "      const progress = document.createElement('progress');\n",
              "      progress.max = size;\n",
              "      div.appendChild(progress);\n",
              "      document.body.appendChild(div);\n",
              "\n",
              "      const buffers = [];\n",
              "      let downloaded = 0;\n",
              "\n",
              "      const channel = await google.colab.kernel.comms.open(id);\n",
              "      // Send a message to notify the kernel that we're ready.\n",
              "      channel.send({})\n",
              "\n",
              "      for await (const message of channel.messages) {\n",
              "        // Send a message to notify the kernel that we're ready.\n",
              "        channel.send({})\n",
              "        if (message.buffers) {\n",
              "          for (const buffer of message.buffers) {\n",
              "            buffers.push(buffer);\n",
              "            downloaded += buffer.byteLength;\n",
              "            progress.value = downloaded;\n",
              "          }\n",
              "        }\n",
              "      }\n",
              "      const blob = new Blob(buffers, {type: 'application/binary'});\n",
              "      const a = document.createElement('a');\n",
              "      a.href = window.URL.createObjectURL(blob);\n",
              "      a.download = filename;\n",
              "      div.appendChild(a);\n",
              "      a.click();\n",
              "      div.remove();\n",
              "    }\n",
              "  "
            ],
            "text/plain": [
              "<IPython.core.display.Javascript object>"
            ]
          },
          "metadata": {
            "tags": []
          }
        },
        {
          "output_type": "display_data",
          "data": {
            "application/javascript": [
              "download(\"download_7be8fbad-e9e5-4022-ac47-b934eeedafb4\", \"centroidesKmeans.csv\", 603)"
            ],
            "text/plain": [
              "<IPython.core.display.Javascript object>"
            ]
          },
          "metadata": {
            "tags": []
          }
        },
        {
          "output_type": "display_data",
          "data": {
            "application/javascript": [
              "\n",
              "    async function download(id, filename, size) {\n",
              "      if (!google.colab.kernel.accessAllowed) {\n",
              "        return;\n",
              "      }\n",
              "      const div = document.createElement('div');\n",
              "      const label = document.createElement('label');\n",
              "      label.textContent = `Downloading \"${filename}\": `;\n",
              "      div.appendChild(label);\n",
              "      const progress = document.createElement('progress');\n",
              "      progress.max = size;\n",
              "      div.appendChild(progress);\n",
              "      document.body.appendChild(div);\n",
              "\n",
              "      const buffers = [];\n",
              "      let downloaded = 0;\n",
              "\n",
              "      const channel = await google.colab.kernel.comms.open(id);\n",
              "      // Send a message to notify the kernel that we're ready.\n",
              "      channel.send({})\n",
              "\n",
              "      for await (const message of channel.messages) {\n",
              "        // Send a message to notify the kernel that we're ready.\n",
              "        channel.send({})\n",
              "        if (message.buffers) {\n",
              "          for (const buffer of message.buffers) {\n",
              "            buffers.push(buffer);\n",
              "            downloaded += buffer.byteLength;\n",
              "            progress.value = downloaded;\n",
              "          }\n",
              "        }\n",
              "      }\n",
              "      const blob = new Blob(buffers, {type: 'application/binary'});\n",
              "      const a = document.createElement('a');\n",
              "      a.href = window.URL.createObjectURL(blob);\n",
              "      a.download = filename;\n",
              "      div.appendChild(a);\n",
              "      a.click();\n",
              "      div.remove();\n",
              "    }\n",
              "  "
            ],
            "text/plain": [
              "<IPython.core.display.Javascript object>"
            ]
          },
          "metadata": {
            "tags": []
          }
        },
        {
          "output_type": "display_data",
          "data": {
            "application/javascript": [
              "download(\"download_e185421e-6e7e-4784-b3de-2c504e557668\", \"resultadosKmeans.csv\", 193832)"
            ],
            "text/plain": [
              "<IPython.core.display.Javascript object>"
            ]
          },
          "metadata": {
            "tags": []
          }
        }
      ]
    },
    {
      "cell_type": "code",
      "metadata": {
        "id": "TOYgtFPSd3Gf"
      },
      "source": [
        "#from google.colab import drive\r\n",
        "#drive.mount(\"/content/gdrive\")\r\n"
      ],
      "execution_count": null,
      "outputs": []
    }
  ]
}